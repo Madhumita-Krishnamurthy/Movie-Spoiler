{
 "cells": [
  {
   "cell_type": "code",
   "execution_count": 1,
   "id": "46a27c6c",
   "metadata": {},
   "outputs": [],
   "source": [
    "import pandas as pd\n",
    "import matplotlib.pyplot as plt\n",
    "from tensorflow.keras.preprocessing.text import Tokenizer\n",
    "from tensorflow.keras.preprocessing.sequence import pad_sequences\n",
    "from tensorflow.keras.models import Sequential\n",
    "from sklearn.utils.class_weight import compute_class_weight\n",
    "from tensorflow.keras.models import Sequential\n",
    "from tensorflow.keras.layers import Embedding, Bidirectional, LSTM, Dense, Dropout\n",
    "from tensorflow.keras.optimizers import Adam\n",
    "from tensorflow.keras.callbacks import ModelCheckpoint\n",
    "import numpy as np"
   ]
  },
  {
   "cell_type": "code",
   "execution_count": 2,
   "id": "2e688e5a",
   "metadata": {},
   "outputs": [],
   "source": [
    "df = pd.read_csv('spoiler_balanced.csv')"
   ]
  },
  {
   "cell_type": "code",
   "execution_count": 3,
   "id": "cac0584b",
   "metadata": {},
   "outputs": [
    {
     "data": {
      "text/html": [
       "<div>\n",
       "<style scoped>\n",
       "    .dataframe tbody tr th:only-of-type {\n",
       "        vertical-align: middle;\n",
       "    }\n",
       "\n",
       "    .dataframe tbody tr th {\n",
       "        vertical-align: top;\n",
       "    }\n",
       "\n",
       "    .dataframe thead th {\n",
       "        text-align: right;\n",
       "    }\n",
       "</style>\n",
       "<table border=\"1\" class=\"dataframe\">\n",
       "  <thead>\n",
       "    <tr style=\"text-align: right;\">\n",
       "      <th></th>\n",
       "      <th>review_text</th>\n",
       "      <th>is_spoiler</th>\n",
       "      <th>clean_review</th>\n",
       "    </tr>\n",
       "  </thead>\n",
       "  <tbody>\n",
       "    <tr>\n",
       "      <th>0</th>\n",
       "      <td>In its Oscar year, Shawshank Redemption (writt...</td>\n",
       "      <td>True</td>\n",
       "      <td>oscar year shawshank redemption written direct...</td>\n",
       "    </tr>\n",
       "    <tr>\n",
       "      <th>1</th>\n",
       "      <td>The Shawshank Redemption is without a doubt on...</td>\n",
       "      <td>True</td>\n",
       "      <td>shawshank redemption without doubt one brillia...</td>\n",
       "    </tr>\n",
       "    <tr>\n",
       "      <th>2</th>\n",
       "      <td>I believe that this film is the best story eve...</td>\n",
       "      <td>True</td>\n",
       "      <td>believe film best story ever told film im tell...</td>\n",
       "    </tr>\n",
       "    <tr>\n",
       "      <th>3</th>\n",
       "      <td>**Yes, there are SPOILERS here**This film has ...</td>\n",
       "      <td>True</td>\n",
       "      <td>yes spoiler herethis film emotional impact fin...</td>\n",
       "    </tr>\n",
       "    <tr>\n",
       "      <th>4</th>\n",
       "      <td>At the heart of this extraordinary movie is a ...</td>\n",
       "      <td>True</td>\n",
       "      <td>heart extraordinary movie brilliant indelible ...</td>\n",
       "    </tr>\n",
       "  </tbody>\n",
       "</table>\n",
       "</div>"
      ],
      "text/plain": [
       "                                         review_text  is_spoiler  \\\n",
       "0  In its Oscar year, Shawshank Redemption (writt...        True   \n",
       "1  The Shawshank Redemption is without a doubt on...        True   \n",
       "2  I believe that this film is the best story eve...        True   \n",
       "3  **Yes, there are SPOILERS here**This film has ...        True   \n",
       "4  At the heart of this extraordinary movie is a ...        True   \n",
       "\n",
       "                                        clean_review  \n",
       "0  oscar year shawshank redemption written direct...  \n",
       "1  shawshank redemption without doubt one brillia...  \n",
       "2  believe film best story ever told film im tell...  \n",
       "3  yes spoiler herethis film emotional impact fin...  \n",
       "4  heart extraordinary movie brilliant indelible ...  "
      ]
     },
     "execution_count": 3,
     "metadata": {},
     "output_type": "execute_result"
    }
   ],
   "source": [
    "df.head()"
   ]
  },
  {
   "cell_type": "code",
   "execution_count": 4,
   "id": "56213754",
   "metadata": {},
   "outputs": [
    {
     "name": "stdout",
     "output_type": "stream",
     "text": [
      "\n",
      "DataFrame info:\n",
      "<class 'pandas.core.frame.DataFrame'>\n",
      "RangeIndex: 573913 entries, 0 to 573912\n",
      "Data columns (total 3 columns):\n",
      " #   Column        Non-Null Count   Dtype \n",
      "---  ------        --------------   ----- \n",
      " 0   review_text   573913 non-null  object\n",
      " 1   is_spoiler    573913 non-null  bool  \n",
      " 2   clean_review  573913 non-null  object\n",
      "dtypes: bool(1), object(2)\n",
      "memory usage: 9.3+ MB\n",
      "None\n"
     ]
    }
   ],
   "source": [
    "# Check data info (types, non-null counts)\n",
    "print(\"\\nDataFrame info:\")\n",
    "print(df.info())"
   ]
  },
  {
   "cell_type": "code",
   "execution_count": 4,
   "id": "62dc819f",
   "metadata": {},
   "outputs": [
    {
     "data": {
      "text/plain": [
       "review_text     573385\n",
       "is_spoiler           2\n",
       "clean_review    573249\n",
       "dtype: int64"
      ]
     },
     "execution_count": 4,
     "metadata": {},
     "output_type": "execute_result"
    }
   ],
   "source": [
    "df.nunique()\n"
   ]
  },
  {
   "cell_type": "code",
   "execution_count": 5,
   "id": "634209e9",
   "metadata": {},
   "outputs": [],
   "source": [
    "df = df[['is_spoiler', 'clean_review']]   # keep only the 2 columns\n",
    "df = df.drop_duplicates(subset='clean_review')  # drop duplicates based on clean_review"
   ]
  },
  {
   "cell_type": "code",
   "execution_count": 6,
   "id": "fb2e9837",
   "metadata": {},
   "outputs": [
    {
     "name": "stdout",
     "output_type": "stream",
     "text": [
      "<class 'pandas.core.frame.DataFrame'>\n",
      "Index: 573249 entries, 0 to 573912\n",
      "Data columns (total 2 columns):\n",
      " #   Column        Non-Null Count   Dtype \n",
      "---  ------        --------------   ----- \n",
      " 0   is_spoiler    573249 non-null  bool  \n",
      " 1   clean_review  573249 non-null  object\n",
      "dtypes: bool(1), object(1)\n",
      "memory usage: 9.3+ MB\n"
     ]
    }
   ],
   "source": [
    "df.info()"
   ]
  },
  {
   "cell_type": "code",
   "execution_count": 7,
   "id": "b34763f8",
   "metadata": {},
   "outputs": [
    {
     "name": "stdout",
     "output_type": "stream",
     "text": [
      "\n",
      "Distribution of 'is_spoiler':\n",
      "is_spoiler\n",
      "False    422404\n",
      "True     150845\n",
      "Name: count, dtype: int64\n"
     ]
    }
   ],
   "source": [
    "# Check distribution of spoiler labels\n",
    "print(\"\\nDistribution of 'is_spoiler':\")\n",
    "print(df['is_spoiler'].value_counts())"
   ]
  },
  {
   "cell_type": "code",
   "execution_count": 8,
   "id": "d5ee9a2e",
   "metadata": {},
   "outputs": [
    {
     "data": {
      "image/png": "[encoded data removed]",
      "text/plain": [
       "<Figure size 640x480 with 1 Axes>"
      ]
     },
     "metadata": {},
     "output_type": "display_data"
    }
   ],
   "source": [
    "# Plot the distribution of spoilers vs non-spoilers\n",
    "df['is_spoiler'].value_counts().plot(kind='bar', title='Spoiler vs Non-Spoiler Distribution')\n",
    "plt.show()"
   ]
  },
  {
   "cell_type": "code",
   "execution_count": null,
   "id": "330271c9",
   "metadata": {},
   "outputs": [
    {
     "name": "stdout",
     "output_type": "stream",
     "text": [
      "Dataset size after filtering short reviews: 573204\n"
     ]
    }
   ],
   "source": [
    "import pandas as pd\n",
    "from sklearn.model_selection import train_test_split\n",
    "\n",
    "# Parameters\n",
    "desired_ratio = 0.6  # False : True\n",
    "min_words = 5        # Minimum words per review\n",
    "random_state = 42\n",
    "val_test_ratio = 0.15  # 15% validation, 15% test\n",
    "\n",
    "# Filter short reviews\n",
    "df = df[df['clean_review'].str.split().str.len() >= min_words]\n",
    "print(f\"Dataset size after filtering short reviews: {len(df)}\")\n",
    "\n",
    "# Separate classes\n",
    "df_true = df[df['is_spoiler'] == True]\n",
    "df_false = df[df['is_spoiler'] == False]\n",
    "\n",
    "# Random downsampling of False\n",
    "n_true = len(df_true)\n",
    "n_false_desired = int((desired_ratio / (1 - desired_ratio)) * n_true)\n",
    "df_false_down = df_false.sample(n=n_false_desired, random_state=random_state)\n",
    "\n",
    "# Combine True and downsampled False\n",
    "df_balanced = pd.concat([df_true, df_false_down]).sample(frac=1, random_state=random_state)\n"
   ]
  },
  {
   "cell_type": "code",
   "execution_count": null,
   "id": "749a3816",
   "metadata": {},
   "outputs": [
    {
     "name": "stdout",
     "output_type": "stream",
     "text": [
      "Training set:\n",
      "  True:  105589\n",
      "  False: 158383\n",
      "  Ratio (False:True): 0.60 : 0.40\n",
      "\n",
      "Validation set:\n",
      "  True:  22627\n",
      "  False: 33939\n",
      "  Ratio (False:True): 0.60 : 0.40\n",
      "\n",
      "Test set:\n",
      "  True:  22626\n",
      "  False: 33940\n",
      "  Ratio (False:True): 0.60 : 0.40\n",
      "\n"
     ]
    }
   ],
   "source": [
    "# Split into train / val / test\n",
    "train_df, temp_df = train_test_split(\n",
    "    df_balanced,\n",
    "    test_size=2*val_test_ratio,  # Remaining 30% split equally\n",
    "    stratify=df_balanced['is_spoiler'],\n",
    "    random_state=random_state\n",
    ")\n",
    "\n",
    "val_df, test_df = train_test_split(\n",
    "    temp_df,\n",
    "    test_size=0.5,\n",
    "    stratify=temp_df['is_spoiler'],\n",
    "    random_state=random_state\n",
    ")\n",
    "\n",
    "\n",
    "# Print info\n",
    "def print_counts(df, name):\n",
    "    true_count = df['is_spoiler'].sum()\n",
    "    false_count = (~df['is_spoiler']).sum()\n",
    "    ratio_false = false_count / (true_count + false_count)\n",
    "    ratio_true = true_count / (true_count + false_count)\n",
    "    print(f\"{name} set:\")\n",
    "    print(f\"  True:  {true_count}\")\n",
    "    print(f\"  False: {false_count}\")\n",
    "    print(f\"  Ratio (False:True): {ratio_false:.2f} : {ratio_true:.2f}\\n\")\n",
    "\n",
    "print_counts(train_df, \"Training\")\n",
    "print_counts(val_df, \"Validation\")\n",
    "print_counts(test_df, \"Test\")"
   ]
  },
  {
   "cell_type": "code",
   "execution_count": 11,
   "id": "62321382",
   "metadata": {},
   "outputs": [
    {
     "data": {
      "image/png": "[encoded data removed]",
      "text/plain": [
       "<Figure size 640x480 with 1 Axes>"
      ]
     },
     "metadata": {},
     "output_type": "display_data"
    }
   ],
   "source": [
    "# Plot the distribution of spoilers vs non-spoilers\n",
    "df_balanced['is_spoiler'].value_counts().plot(kind='bar', title='Spoiler vs Non-Spoiler Distribution')\n",
    "plt.show()"
   ]
  },
  {
   "cell_type": "code",
   "execution_count": 12,
   "id": "c1a9b073",
   "metadata": {},
   "outputs": [
    {
     "name": "stdout",
     "output_type": "stream",
     "text": [
      "To cover 90% of the dataset, you need ~8984 words.\n",
      "To cover 95% of the dataset, you need ~20481 words.\n",
      "To cover 99% of the dataset, you need ~263526 words.\n"
     ]
    }
   ],
   "source": [
    "from collections import Counter\n",
    "import numpy as np\n",
    "\n",
    "# Flatten all words into a single list\n",
    "all_words = \" \".join(train_df['clean_review']).split()\n",
    "\n",
    "# Count word frequencies\n",
    "word_counts = Counter(all_words)\n",
    "\n",
    "# Sort by frequency (most common first)\n",
    "sorted_words = word_counts.most_common()\n",
    "\n",
    "# Total number of tokens\n",
    "total_tokens = sum(word_counts.values())\n",
    "\n",
    "# Function to find vocab size that covers a percentage of tokens\n",
    "def vocab_size_for_coverage(coverage=0.95):\n",
    "    cumulative = 0\n",
    "    vocab_size = 0\n",
    "    for word, count in sorted_words:\n",
    "        cumulative += count\n",
    "        vocab_size += 1\n",
    "        if cumulative / total_tokens >= coverage:\n",
    "            break\n",
    "    return vocab_size\n",
    "\n",
    "# Example: coverage for 90%, 95%, 99%\n",
    "for cov in [0.90, 0.95, 0.99]:\n",
    "    size = vocab_size_for_coverage(cov)\n",
    "    print(f\"To cover {int(cov*100)}% of the dataset, you need ~{size} words.\")\n"
   ]
  },
  {
   "cell_type": "code",
   "execution_count": null,
   "id": "d9433615",
   "metadata": {},
   "outputs": [],
   "source": [
    "from transformers import AutoTokenizer\n",
    "import pandas as pd\n",
    "\n",
    "tokenizer = AutoTokenizer.from_pretrained(\"bert-base-uncased\")\n",
    "\n",
    "# Example: token lengths for clean_review\n",
    "token_lens = []\n",
    "for txt in df_balanced[\"clean_review\"]:\n",
    "    tokens = tokenizer.encode(txt, add_special_tokens=True)\n",
    "    token_lens.append(len(tokens))\n",
    "\n",
    "df_lengths = pd.Series(token_lens)\n",
    "\n",
    "print(\"Max token length:\", df_lengths.max())\n",
    "print(df_lengths.describe())\n"
   ]
  },
  {
   "cell_type": "code",
   "execution_count": 17,
   "id": "acc9052d",
   "metadata": {},
   "outputs": [
    {
     "name": "stdout",
     "output_type": "stream",
     "text": [
      "90% coverage: 353 tokens\n",
      "95% coverage: 459 tokens\n"
     ]
    }
   ],
   "source": [
    "import numpy as np\n",
    "\n",
    "max_len_90 = int(np.percentile(df_lengths, 90))\n",
    "max_len_95 = int(np.percentile(df_lengths, 95))\n",
    "\n",
    "print(f\"90% coverage: {max_len_90} tokens\")\n",
    "print(f\"95% coverage: {max_len_95} tokens\")\n"
   ]
  },
  {
   "cell_type": "code",
   "execution_count": 14,
   "id": "d6f2e0e2",
   "metadata": {},
   "outputs": [],
   "source": [
    "# Fit tokenizer on the training set\n",
    "tokenizer = Tokenizer(num_words=20000, oov_token=\"<UNK>\")\n",
    "tokenizer.fit_on_texts(train_df['clean_review'])\n",
    "\n",
    "# Convert text to sequences - Converts each review into a list of integers based on the tokenizer’s vocabulary\n",
    "x_train = tokenizer.texts_to_sequences(train_df['clean_review'])\n",
    "x_val = tokenizer.texts_to_sequences(val_df['clean_review'])\n",
    "x_test = tokenizer.texts_to_sequences(test_df['clean_review'])\n",
    "\n",
    "# Pad sequences\n",
    "max_len = 459   \n",
    "x_train = pad_sequences(x_train, maxlen=max_len, padding='post', truncating='post')\n",
    "x_val = pad_sequences(x_val, maxlen=max_len, padding='post', truncating='post')\n",
    "x_test = pad_sequences(x_test, maxlen=max_len, padding='post', truncating='post')\n",
    "\n",
    "# Prepare targets\n",
    "'''\n",
    "Converts labels (True/False or 0/1) to integer NumPy arrays for use in training.\n",
    ".astype(int): Ensures the data is in numeric format.\n",
    ".values: Converts pandas Series to NumPy array.\n",
    "'''\n",
    "y_train = train_df['is_spoiler'].astype(int).values\n",
    "y_val = val_df['is_spoiler'].astype(int).values\n",
    "y_test = test_df['is_spoiler'].astype(int).values"
   ]
  },
  {
   "cell_type": "code",
   "execution_count": 15,
   "id": "d954369e",
   "metadata": {},
   "outputs": [
    {
     "name": "stdout",
     "output_type": "stream",
     "text": [
      "Class weights for training: {np.int64(0): np.float64(0.8333343856348219), np.int64(1): np.float64(1.249997632329125)}\n"
     ]
    }
   ],
   "source": [
    "class_weights = compute_class_weight(class_weight='balanced', classes=np.unique(y_train), y=y_train)\n",
    "class_weight_dict = dict(zip(np.unique(y_train), class_weights))\n",
    "print(\"Class weights for training:\", class_weight_dict)"
   ]
  },
  {
   "cell_type": "code",
   "execution_count": null,
   "id": "25337d27",
   "metadata": {},
   "outputs": [
    {
     "name": "stderr",
     "output_type": "stream",
     "text": [
      "c:\\Users\\Madhumita\\AppData\\Local\\Programs\\Python\\Python310\\lib\\site-packages\\keras\\src\\layers\\core\\embedding.py:97: UserWarning: Argument `input_length` is deprecated. Just remove it.\n",
      "  warnings.warn(\n"
     ]
    }
   ],
   "source": [
    "import tensorflow as tf\n",
    "from tensorflow.keras.models import Sequential\n",
    "from tensorflow.keras.layers import Embedding, Bidirectional, LSTM, Dropout, Dense\n",
    "from tensorflow.keras import regularizers\n",
    "\n",
    "vocab_size = 20000   # Size of vocabulary (top 10,000 words)\n",
    "embedding_dim = 100  # Size of word embedding vectors\n",
    "max_len = 459        # Max length of each input sequence\n",
    "\n",
    "# L2 regularization strength\n",
    "l2_reg = 1e-4\n",
    "\n",
    "model = Sequential([\n",
    "    Embedding(vocab_size, embedding_dim, input_length=max_len),\n",
    "\n",
    "    Bidirectional(LSTM(\n",
    "        64,\n",
    "        kernel_regularizer=regularizers.l2(l2_reg),  # L2 on weights\n",
    "        recurrent_regularizer=regularizers.l2(l2_reg),  # L2 on recurrent connections\n",
    "        bias_regularizer=regularizers.l2(l2_reg)  # L2 on biases \n",
    "    )),\n",
    "\n",
    "    Dropout(0.5),\n",
    "\n",
    "    Dense(\n",
    "        64,\n",
    "        activation='relu',\n",
    "        kernel_regularizer=regularizers.l2(l2_reg),\n",
    "        bias_regularizer=regularizers.l2(l2_reg)\n",
    "    ),\n",
    "\n",
    "    Dropout(0.5),\n",
    "\n",
    "    Dense(\n",
    "        1,\n",
    "        activation='sigmoid',\n",
    "        kernel_regularizer=regularizers.l2(l2_reg),\n",
    "        bias_regularizer=regularizers.l2(l2_reg)\n",
    "    )\n",
    "])\n",
    "\n",
    "model.build(input_shape=(None, max_len))\n"
   ]
  },
  {
   "cell_type": "code",
   "execution_count": 17,
   "id": "a9bb980f",
   "metadata": {},
   "outputs": [
    {
     "data": {
      "text/html": [
       "<pre style=\"white-space:pre;overflow-x:auto;line-height:normal;font-family:Menlo,'DejaVu Sans Mono',consolas,'Courier New',monospace\"><span style=\"font-weight: bold\">Model: \"sequential\"</span>\n",
       "</pre>\n"
      ],
      "text/plain": [
       "\u001b[1mModel: \"sequential\"\u001b[0m\n"
      ]
     },
     "metadata": {},
     "output_type": "display_data"
    },
    {
     "data": {
      "text/html": [
       "<pre style=\"white-space:pre;overflow-x:auto;line-height:normal;font-family:Menlo,'DejaVu Sans Mono',consolas,'Courier New',monospace\">┏━━━━━━━━━━━━━━━━━━━━━━━━━━━━━━━━━┳━━━━━━━━━━━━━━━━━━━━━━━━┳━━━━━━━━━━━━━━━┓\n",
       "┃<span style=\"font-weight: bold\"> Layer (type)                    </span>┃<span style=\"font-weight: bold\"> Output Shape           </span>┃<span style=\"font-weight: bold\">       Param # </span>┃\n",
       "┡━━━━━━━━━━━━━━━━━━━━━━━━━━━━━━━━━╇━━━━━━━━━━━━━━━━━━━━━━━━╇━━━━━━━━━━━━━━━┩\n",
       "│ embedding (<span style=\"color: #0087ff; text-decoration-color: #0087ff\">Embedding</span>)           │ (<span style=\"color: #00d7ff; text-decoration-color: #00d7ff\">None</span>, <span style=\"color: #00af00; text-decoration-color: #00af00\">459</span>, <span style=\"color: #00af00; text-decoration-color: #00af00\">100</span>)       │     <span style=\"color: #00af00; text-decoration-color: #00af00\">2,000,000</span> │\n",
       "├─────────────────────────────────┼────────────────────────┼───────────────┤\n",
       "│ bidirectional (<span style=\"color: #0087ff; text-decoration-color: #0087ff\">Bidirectional</span>)   │ (<span style=\"color: #00d7ff; text-decoration-color: #00d7ff\">None</span>, <span style=\"color: #00af00; text-decoration-color: #00af00\">128</span>)            │        <span style=\"color: #00af00; text-decoration-color: #00af00\">84,480</span> │\n",
       "├─────────────────────────────────┼────────────────────────┼───────────────┤\n",
       "│ dropout (<span style=\"color: #0087ff; text-decoration-color: #0087ff\">Dropout</span>)               │ (<span style=\"color: #00d7ff; text-decoration-color: #00d7ff\">None</span>, <span style=\"color: #00af00; text-decoration-color: #00af00\">128</span>)            │             <span style=\"color: #00af00; text-decoration-color: #00af00\">0</span> │\n",
       "├─────────────────────────────────┼────────────────────────┼───────────────┤\n",
       "│ dense (<span style=\"color: #0087ff; text-decoration-color: #0087ff\">Dense</span>)                   │ (<span style=\"color: #00d7ff; text-decoration-color: #00d7ff\">None</span>, <span style=\"color: #00af00; text-decoration-color: #00af00\">64</span>)             │         <span style=\"color: #00af00; text-decoration-color: #00af00\">8,256</span> │\n",
       "├─────────────────────────────────┼────────────────────────┼───────────────┤\n",
       "│ dropout_1 (<span style=\"color: #0087ff; text-decoration-color: #0087ff\">Dropout</span>)             │ (<span style=\"color: #00d7ff; text-decoration-color: #00d7ff\">None</span>, <span style=\"color: #00af00; text-decoration-color: #00af00\">64</span>)             │             <span style=\"color: #00af00; text-decoration-color: #00af00\">0</span> │\n",
       "├─────────────────────────────────┼────────────────────────┼───────────────┤\n",
       "│ dense_1 (<span style=\"color: #0087ff; text-decoration-color: #0087ff\">Dense</span>)                 │ (<span style=\"color: #00d7ff; text-decoration-color: #00d7ff\">None</span>, <span style=\"color: #00af00; text-decoration-color: #00af00\">1</span>)              │            <span style=\"color: #00af00; text-decoration-color: #00af00\">65</span> │\n",
       "└─────────────────────────────────┴────────────────────────┴───────────────┘\n",
       "</pre>\n"
      ],
      "text/plain": [
       "┏━━━━━━━━━━━━━━━━━━━━━━━━━━━━━━━━━┳━━━━━━━━━━━━━━━━━━━━━━━━┳━━━━━━━━━━━━━━━┓\n",
       "┃\u001b[1m \u001b[0m\u001b[1mLayer (type)                   \u001b[0m\u001b[1m \u001b[0m┃\u001b[1m \u001b[0m\u001b[1mOutput Shape          \u001b[0m\u001b[1m \u001b[0m┃\u001b[1m \u001b[0m\u001b[1m      Param #\u001b[0m\u001b[1m \u001b[0m┃\n",
       "┡━━━━━━━━━━━━━━━━━━━━━━━━━━━━━━━━━╇━━━━━━━━━━━━━━━━━━━━━━━━╇━━━━━━━━━━━━━━━┩\n",
       "│ embedding (\u001b[38;5;33mEmbedding\u001b[0m)           │ (\u001b[38;5;45mNone\u001b[0m, \u001b[38;5;34m459\u001b[0m, \u001b[38;5;34m100\u001b[0m)       │     \u001b[38;5;34m2,000,000\u001b[0m │\n",
       "├─────────────────────────────────┼────────────────────────┼───────────────┤\n",
       "│ bidirectional (\u001b[38;5;33mBidirectional\u001b[0m)   │ (\u001b[38;5;45mNone\u001b[0m, \u001b[38;5;34m128\u001b[0m)            │        \u001b[38;5;34m84,480\u001b[0m │\n",
       "├─────────────────────────────────┼────────────────────────┼───────────────┤\n",
       "│ dropout (\u001b[38;5;33mDropout\u001b[0m)               │ (\u001b[38;5;45mNone\u001b[0m, \u001b[38;5;34m128\u001b[0m)            │             \u001b[38;5;34m0\u001b[0m │\n",
       "├─────────────────────────────────┼────────────────────────┼───────────────┤\n",
       "│ dense (\u001b[38;5;33mDense\u001b[0m)                   │ (\u001b[38;5;45mNone\u001b[0m, \u001b[38;5;34m64\u001b[0m)             │         \u001b[38;5;34m8,256\u001b[0m │\n",
       "├─────────────────────────────────┼────────────────────────┼───────────────┤\n",
       "│ dropout_1 (\u001b[38;5;33mDropout\u001b[0m)             │ (\u001b[38;5;45mNone\u001b[0m, \u001b[38;5;34m64\u001b[0m)             │             \u001b[38;5;34m0\u001b[0m │\n",
       "├─────────────────────────────────┼────────────────────────┼───────────────┤\n",
       "│ dense_1 (\u001b[38;5;33mDense\u001b[0m)                 │ (\u001b[38;5;45mNone\u001b[0m, \u001b[38;5;34m1\u001b[0m)              │            \u001b[38;5;34m65\u001b[0m │\n",
       "└─────────────────────────────────┴────────────────────────┴───────────────┘\n"
      ]
     },
     "metadata": {},
     "output_type": "display_data"
    },
    {
     "data": {
      "text/html": [
       "<pre style=\"white-space:pre;overflow-x:auto;line-height:normal;font-family:Menlo,'DejaVu Sans Mono',consolas,'Courier New',monospace\"><span style=\"font-weight: bold\"> Total params: </span><span style=\"color: #00af00; text-decoration-color: #00af00\">2,092,801</span> (7.98 MB)\n",
       "</pre>\n"
      ],
      "text/plain": [
       "\u001b[1m Total params: \u001b[0m\u001b[38;5;34m2,092,801\u001b[0m (7.98 MB)\n"
      ]
     },
     "metadata": {},
     "output_type": "display_data"
    },
    {
     "data": {
      "text/html": [
       "<pre style=\"white-space:pre;overflow-x:auto;line-height:normal;font-family:Menlo,'DejaVu Sans Mono',consolas,'Courier New',monospace\"><span style=\"font-weight: bold\"> Trainable params: </span><span style=\"color: #00af00; text-decoration-color: #00af00\">2,092,801</span> (7.98 MB)\n",
       "</pre>\n"
      ],
      "text/plain": [
       "\u001b[1m Trainable params: \u001b[0m\u001b[38;5;34m2,092,801\u001b[0m (7.98 MB)\n"
      ]
     },
     "metadata": {},
     "output_type": "display_data"
    },
    {
     "data": {
      "text/html": [
       "<pre style=\"white-space:pre;overflow-x:auto;line-height:normal;font-family:Menlo,'DejaVu Sans Mono',consolas,'Courier New',monospace\"><span style=\"font-weight: bold\"> Non-trainable params: </span><span style=\"color: #00af00; text-decoration-color: #00af00\">0</span> (0.00 B)\n",
       "</pre>\n"
      ],
      "text/plain": [
       "\u001b[1m Non-trainable params: \u001b[0m\u001b[38;5;34m0\u001b[0m (0.00 B)\n"
      ]
     },
     "metadata": {},
     "output_type": "display_data"
    },
    {
     "name": "stdout",
     "output_type": "stream",
     "text": [
      "None\n"
     ]
    }
   ],
   "source": [
    "print(model.summary())"
   ]
  },
  {
   "cell_type": "code",
   "execution_count": 18,
   "id": "a8c79934",
   "metadata": {},
   "outputs": [],
   "source": [
    "model.compile(\n",
    "    loss='binary_crossentropy',\n",
    "    optimizer=Adam(),  \n",
    "    metrics=['accuracy']\n",
    ")"
   ]
  },
  {
   "cell_type": "code",
   "execution_count": 19,
   "id": "67749abc",
   "metadata": {},
   "outputs": [],
   "source": [
    "checkpoint_callback = ModelCheckpoint(\n",
    "    filepath=\"checkpoints_final1/model_epoch_{epoch:02d}.weights.h5\",\n",
    "    save_weights_only=True,\n",
    "    save_freq='epoch', #Save the weights after every epoch.\n",
    "    verbose=1 #Keras will print a message whenever a model is saved.\n",
    ")"
   ]
  },
  {
   "cell_type": "code",
   "execution_count": 20,
   "id": "160aad31",
   "metadata": {},
   "outputs": [],
   "source": [
    "import math\n",
    "\n",
    "num_train_samples = len(x_train)\n",
    "batch_size = 512\n",
    "steps_per_epoch = math.ceil(num_train_samples / batch_size) #calculates how many batches (steps) are needed to go through the entire training dataset once, i.e., one full epoch."
   ]
  },
  {
   "cell_type": "code",
   "execution_count": 21,
   "id": "ea7d8612",
   "metadata": {},
   "outputs": [
    {
     "name": "stdout",
     "output_type": "stream",
     "text": [
      "Epoch 1/2\n",
      "\u001b[1m516/516\u001b[0m \u001b[32m━━━━━━━━━━━━━━━━━━━━\u001b[0m\u001b[37m\u001b[0m \u001b[1m0s\u001b[0m 10s/step - accuracy: 0.6267 - loss: 0.6667\n",
      "Epoch 1: saving model to checkpoints_final1/model_epoch_01.weights.h5\n",
      "\u001b[1m516/516\u001b[0m \u001b[32m━━━━━━━━━━━━━━━━━━━━\u001b[0m\u001b[37m\u001b[0m \u001b[1m5346s\u001b[0m 10s/step - accuracy: 0.6665 - loss: 0.6305 - val_accuracy: 0.7082 - val_loss: 0.5832\n",
      "Epoch 2/2\n",
      "\u001b[1m516/516\u001b[0m \u001b[32m━━━━━━━━━━━━━━━━━━━━\u001b[0m\u001b[37m\u001b[0m \u001b[1m0s\u001b[0m 10s/step - accuracy: 0.7134 - loss: 0.5728 \n",
      "Epoch 2: saving model to checkpoints_final1/model_epoch_02.weights.h5\n",
      "\u001b[1m516/516\u001b[0m \u001b[32m━━━━━━━━━━━━━━━━━━━━\u001b[0m\u001b[37m\u001b[0m \u001b[1m5643s\u001b[0m 11s/step - accuracy: 0.7115 - loss: 0.5734 - val_accuracy: 0.7147 - val_loss: 0.5676\n"
     ]
    }
   ],
   "source": [
    "# Train for a small number of epochs (e.g. 2) initially\n",
    "initial_epoch = 0\n",
    "history = model.fit(\n",
    "    x_train, y_train,\n",
    "    validation_data=(x_val, y_val),\n",
    "    epochs=2,\n",
    "    initial_epoch=initial_epoch,\n",
    "    batch_size=batch_size,\n",
    "    steps_per_epoch=steps_per_epoch,\n",
    "    class_weight=class_weight_dict,\n",
    "    callbacks=[checkpoint_callback]\n",
    ")"
   ]
  },
  {
   "cell_type": "code",
   "execution_count": 22,
   "id": "1df89849",
   "metadata": {},
   "outputs": [
    {
     "name": "stdout",
     "output_type": "stream",
     "text": [
      "Epoch 3/5\n",
      "\u001b[1m516/516\u001b[0m \u001b[32m━━━━━━━━━━━━━━━━━━━━\u001b[0m\u001b[37m\u001b[0m \u001b[1m0s\u001b[0m 9s/step - accuracy: 0.7304 - loss: 0.5460\n",
      "Epoch 3: saving model to checkpoints_final1/model_epoch_03.weights.h5\n",
      "\u001b[1m516/516\u001b[0m \u001b[32m━━━━━━━━━━━━━━━━━━━━\u001b[0m\u001b[37m\u001b[0m \u001b[1m5097s\u001b[0m 10s/step - accuracy: 0.7282 - loss: 0.5492 - val_accuracy: 0.6986 - val_loss: 0.6004\n",
      "Epoch 4/5\n",
      "\u001b[1m516/516\u001b[0m \u001b[32m━━━━━━━━━━━━━━━━━━━━\u001b[0m\u001b[37m\u001b[0m \u001b[1m0s\u001b[0m 10s/step - accuracy: 0.7477 - loss: 0.5205\n",
      "Epoch 4: saving model to checkpoints_final1/model_epoch_04.weights.h5\n",
      "\u001b[1m516/516\u001b[0m \u001b[32m━━━━━━━━━━━━━━━━━━━━\u001b[0m\u001b[37m\u001b[0m \u001b[1m5246s\u001b[0m 10s/step - accuracy: 0.7412 - loss: 0.5287 - val_accuracy: 0.6832 - val_loss: 0.5992\n",
      "Epoch 5/5\n",
      "\u001b[1m516/516\u001b[0m \u001b[32m━━━━━━━━━━━━━━━━━━━━\u001b[0m\u001b[37m\u001b[0m \u001b[1m0s\u001b[0m 10s/step - accuracy: 0.7584 - loss: 0.5032\n",
      "Epoch 5: saving model to checkpoints_final1/model_epoch_05.weights.h5\n",
      "\u001b[1m516/516\u001b[0m \u001b[32m━━━━━━━━━━━━━━━━━━━━\u001b[0m\u001b[37m\u001b[0m \u001b[1m5343s\u001b[0m 10s/step - accuracy: 0.7525 - loss: 0.5126 - val_accuracy: 0.7015 - val_loss: 0.5873\n"
     ]
    }
   ],
   "source": [
    "# Later, resume training from epoch 2\n",
    "model.load_weights(\"checkpoints_final1/model_epoch_02.weights.h5\")\n",
    "\n",
    "history = model.fit(\n",
    "    x_train, y_train,\n",
    "    validation_data=(x_val, y_val),\n",
    "    epochs=5,             \n",
    "    initial_epoch=2,      \n",
    "    batch_size=batch_size,\n",
    "    steps_per_epoch=steps_per_epoch,\n",
    "    class_weight=class_weight_dict,\n",
    "    callbacks=[checkpoint_callback]\n",
    ")\n"
   ]
  },
  {
   "cell_type": "code",
   "execution_count": 23,
   "id": "66849ff6",
   "metadata": {},
   "outputs": [
    {
     "name": "stdout",
     "output_type": "stream",
     "text": [
      "\u001b[1m111/111\u001b[0m \u001b[32m━━━━━━━━━━━━━━━━━━━━\u001b[0m\u001b[37m\u001b[0m \u001b[1m234s\u001b[0m 2s/step - accuracy: 0.7012 - loss: 0.5894\n",
      "Test Loss: 0.5894\n",
      "Test Accuracy: 0.7012\n"
     ]
    }
   ],
   "source": [
    "# Evaluate the model on test data\n",
    "test_loss, test_accuracy = model.evaluate(x_test, y_test, batch_size=512)\n",
    "2\n",
    "print(f\"Test Loss: {test_loss:.4f}\")\n",
    "print(f\"Test Accuracy: {test_accuracy:.4f}\")"
   ]
  },
  {
   "cell_type": "code",
   "execution_count": 24,
   "id": "f91215db",
   "metadata": {},
   "outputs": [
    {
     "name": "stdout",
     "output_type": "stream",
     "text": [
      "\u001b[1m1768/1768\u001b[0m \u001b[32m━━━━━━━━━━━━━━━━━━━━\u001b[0m\u001b[37m\u001b[0m \u001b[1m208s\u001b[0m 117ms/step\n",
      "Test Accuracy : 0.7012\n",
      "Precision     : 0.6314\n",
      "Recall        : 0.6082\n",
      "F1-Score      : 0.6196\n",
      "ROC-AUC       : 0.7572\n"
     ]
    }
   ],
   "source": [
    "from sklearn.metrics import accuracy_score, precision_score, recall_score, f1_score, roc_auc_score\n",
    "\n",
    "# Predict probabilities\n",
    "y_pred_prob = model.predict(x_test)\n",
    "\n",
    "# Convert probabilities to class labels (0/1) using 0.5 threshold\n",
    "y_pred = (y_pred_prob >= 0.5).astype(int).flatten()\n",
    "\n",
    "# Accuracy\n",
    "acc = accuracy_score(y_test, y_pred)\n",
    "\n",
    "# Precision\n",
    "prec = precision_score(y_test, y_pred)\n",
    "\n",
    "# Recall\n",
    "rec = recall_score(y_test, y_pred)\n",
    "\n",
    "# F1-score\n",
    "f1 = f1_score(y_test, y_pred)\n",
    "\n",
    "# ROC-AUC\n",
    "roc_auc = roc_auc_score(y_test, y_pred_prob)\n",
    "\n",
    "# Print metrics\n",
    "print(f\"Test Accuracy : {acc:.4f}\")\n",
    "print(f\"Precision     : {prec:.4f}\")\n",
    "print(f\"Recall        : {rec:.4f}\")\n",
    "print(f\"F1-Score      : {f1:.4f}\")\n",
    "print(f\"ROC-AUC       : {roc_auc:.4f}\")"
   ]
  },
  {
   "cell_type": "code",
   "execution_count": 43,
   "id": "ecdd902c",
   "metadata": {},
   "outputs": [
    {
     "name": "stdout",
     "output_type": "stream",
     "text": [
      "Predicted class counts: [68896 29173]\n",
      "Actual class counts   : [98069]\n"
     ]
    }
   ],
   "source": [
    "print(\"Predicted class counts:\", np.bincount(y_pred))\n",
    "print(\"Actual class counts   :\", np.bincount(y_test))"
   ]
  },
  {
   "cell_type": "code",
   "execution_count": 25,
   "id": "e9c7f4a5",
   "metadata": {},
   "outputs": [
    {
     "name": "stderr",
     "output_type": "stream",
     "text": [
      "WARNING:absl:You are saving your model as an HDF5 file via `model.save()` or `keras.saving.save_model(model)`. This file format is considered legacy. We recommend using instead the native Keras format, e.g. `model.save('my_model.keras')` or `keras.saving.save_model(model, 'my_model.keras')`. \n"
     ]
    }
   ],
   "source": [
    "model.save('spoiler_pred_finalcopy.h5')  # Saves in HDF5 format"
   ]
  },
  {
   "cell_type": "code",
   "execution_count": 26,
   "id": "50e053e0",
   "metadata": {},
   "outputs": [],
   "source": [
    "import pickle\n",
    "with open(\"tokenizer_final.pkl\", \"wb\") as f:\n",
    "    pickle.dump(tokenizer, f)"
   ]
  }
 ],
 "metadata": {
  "kernelspec": {
   "display_name": "Python 3",
   "language": "python",
   "name": "python3"
  },
  "language_info": {
   "codemirror_mode": {
    "name": "ipython",
    "version": 3
   },
   "file_extension": ".py",
   "mimetype": "text/x-python",
   "name": "python",
   "nbconvert_exporter": "python",
   "pygments_lexer": "ipython3",
   "version": "3.10.0"
  }
 },
 "nbformat": 4,
 "nbformat_minor": 5
}
